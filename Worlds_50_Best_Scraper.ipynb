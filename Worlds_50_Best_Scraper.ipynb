{
 "cells": [
  {
   "cell_type": "code",
   "execution_count": 2,
   "metadata": {},
   "outputs": [],
   "source": [
    "from bs4 import BeautifulSoup\n",
    "import re\n",
    "import requests\n",
    "import json"
   ]
  },
  {
   "cell_type": "code",
   "execution_count": 3,
   "metadata": {},
   "outputs": [],
   "source": [
    "base_path='https://www.theworlds50best.com/list/1-50-winners'"
   ]
  },
  {
   "cell_type": "code",
   "execution_count": 4,
   "metadata": {},
   "outputs": [],
   "source": [
    "soup=BeautifulSoup(requests.get(base_path).text,'html.parser')"
   ]
  },
  {
   "cell_type": "code",
   "execution_count": 5,
   "metadata": {},
   "outputs": [],
   "source": [
    "#soup.prettify()"
   ]
  },
  {
   "cell_type": "code",
   "execution_count": 6,
   "metadata": {},
   "outputs": [],
   "source": [
    "rest_links=soup.find_all('a',{'class':'contenthyperlink_link'})\n",
    "rest_links=[i  for i in rest_links if 'The-List-2018' in i['href']]"
   ]
  },
  {
   "cell_type": "code",
   "execution_count": 7,
   "metadata": {},
   "outputs": [],
   "source": [
    "#rest_links"
   ]
  },
  {
   "cell_type": "code",
   "execution_count": 8,
   "metadata": {},
   "outputs": [],
   "source": [
    "rest_links=rest_links[:50]"
   ]
  },
  {
   "cell_type": "code",
   "execution_count": 9,
   "metadata": {},
   "outputs": [
    {
     "data": {
      "text/plain": [
       "[<a class=\"contenthyperlink_link contenthyperlink_link_1262665\" href=\"/The-List-2018/1-10/Osteria-Francescana.html\" id=\"contentLink_1509199\"><div class=\"bg\"><img alt=\"Osteria Francescana\" src=\"/filestore/jpg/Osteria-World-2018-Dish2.jpg\" title=\"Osteria Francescana\"/><div class=\"to\"><ul><li class=\"lead\">No.1</li><li class=\"strap\">Osteria Francescana<br/><span>Modena, Italy</span></li><li class=\"copy\" style=\"display: none\">Massimo Bottura’s Modenese masterpiece leads the world once again<br/><br/>Read more about this restaurant...</li></ul></div></div></a>,\n",
       " <a class=\"contenthyperlink_link contenthyperlink_link_1262665\" href=\"/The-List-2018/1-10/El-Celler-de-Can-Roca.html\" id=\"contentLink_1509200\"><div class=\"bg\"><img alt=\"El Celler de Can Roca\" src=\"/filestore/jpg/Ostra al albariño.jpg\" title=\"El Celler de Can Roca\"/><div class=\"to\"><ul><li class=\"lead\">No.2</li><li class=\"strap\">El Celler de Can Roca<br/><span>Girona, Spain</span></li><li class=\"copy\" style=\"display: none\">Perfect pairing of food, dessert and wine from Spain’s famous culinary trio<br/><br/>Read more about this restaurant...</li></ul></div></div></a>,\n",
       " <a class=\"contenthyperlink_link contenthyperlink_link_1262665\" href=\"/The-List-2018/1-10/Mirazur.html\" id=\"contentLink_1509201\"><div class=\"bg\"><img alt=\"Mirazur\" src=\"/filestore/jpg/MIrazur-dish-teaser-300x300.jpg\" title=\"Mirazur\"/><div class=\"to\"><ul><li class=\"lead\">No.3</li><li class=\"strap\">Mirazur<br/><span>Menton, France</span></li><li class=\"copy\" style=\"display: none\">Progressive European plates inspired by the French Riviera and their Argentine creator’s roots<br/><br/>Read more about this restaurant...</li></ul></div></div></a>,\n",
       " <a class=\"contenthyperlink_link contenthyperlink_link_1262665\" href=\"/The-List-2018/1-10/Eleven-Madison-Park.html\" id=\"contentLink_1509202\"><div class=\"bg\"><img alt=\"Eleven Madison Park\" src=\"/filestore/jpg/EMP-dish-teaser-300x300.jpg\" title=\"Eleven Madison Park\"/><div class=\"to\"><ul><li class=\"lead\">No.4</li><li class=\"strap\">Eleven Madison Park<br/><span>New York, USA</span></li><li class=\"copy\" style=\"display: none\">Innovative New American cuisine served in a majestic former bank<br/><br/>Read more about this restaurant...</li></ul></div></div></a>,\n",
       " <a class=\"contenthyperlink_link contenthyperlink_link_1262665\" href=\"/The-List-2018/1-10/Gaggan.html\" id=\"contentLink_1509203\"><div class=\"bg\"><img alt=\"Gaggan\" src=\"/filestore/jpg/Gaggan-dish-teaser-300x300.jpg\" title=\"Gaggan\"/><div class=\"to\"><ul><li class=\"lead\">No.5</li><li class=\"strap\">Gaggan<br/><span>Bangkok, Thailand</span></li><li class=\"copy\" style=\"display: none\">A colourful, emoji-led feast from Asia’s unstoppable chef<br/><br/>Read more about this restaurant...</li></ul></div></div></a>]"
      ]
     },
     "execution_count": 9,
     "metadata": {},
     "output_type": "execute_result"
    }
   ],
   "source": [
    "rest_links[:5]"
   ]
  },
  {
   "cell_type": "code",
   "execution_count": 10,
   "metadata": {},
   "outputs": [],
   "source": [
    "#rest_links"
   ]
  },
  {
   "cell_type": "code",
   "execution_count": 11,
   "metadata": {},
   "outputs": [],
   "source": [
    "full_ps=[]\n",
    "for rl in rest_links:\n",
    "    rest_link=rl['href']\n",
    "    soup=BeautifulSoup(requests.get('https://www.theworlds50best.com/'+rest_link).text,'html.parser')\n",
    "    \n",
    "    rest_ps=soup.find_all('p')\n",
    "    full_p=''\n",
    "    for p in rest_ps:\n",
    "    #print([full_p,p.text])\n",
    "        full_p=' '.join([full_p,p.text])\n",
    "        \n",
    "    full_p=full_p.replace('\\n',' ')\n",
    "    full_p=full_p.strip()\n",
    "    full_ps.append(full_p)"
   ]
  },
  {
   "cell_type": "code",
   "execution_count": 12,
   "metadata": {},
   "outputs": [
    {
     "data": {
      "text/plain": [
       "50"
      ]
     },
     "execution_count": 12,
     "metadata": {},
     "output_type": "execute_result"
    }
   ],
   "source": [
    "len(full_ps)"
   ]
  },
  {
   "cell_type": "code",
   "execution_count": 13,
   "metadata": {},
   "outputs": [
    {
     "data": {
      "text/plain": [
       "['Massimo Bottura’s Modenese masterpiece leads the world once again Believe the hype: Massimo Bottura may be a big personality with high-profile international projects, but Osteria Francescana remains a small, discreet restaurant in the relatively modest Italian town of Modena. It also happens to deliver one of the very finest dining experiences in the world, combining nods to tradition with fierce modernity, philosophical conceptions with old-fashioned flavour, warmth with daring. It could have been different: In its early days, the restaurant almost closed after conservative locals were resistant to Bottura’s tradition-busting approach to the Italian kitchen. Thankfully, the locally born chef and his American wife Lara Gilmore persevered. Now, of course, Bottura is feted by fellow chefs, critics and diners both closer to home and from across the globe. On the menu: Bottura weaves a range of narratives through his dishes, playing with ingredients from the surrounding Emilia-Romagna region. Courses include the now-famous (and equally delicious) Five Ages of Parmigiano Reggiano, which takes the diner through the region’s esteemed cheese in different temperatures, textures and tastes, as well as Adriatic Chowder. The latter takes the form of pie crust ‘pirate ship’ filled with sea snails, razor clams, blue lobster and truffle clam chowder as a representation of travel, seasonality and the local coastline. Food meets art: The kitchen’s creations are heavily influenced by art and music (in particular, jazz), and the dining space is made up of three elegant rooms that are adorned with high-quality contemporary artwork. Back on top: Osteria Francescana topped The World’s 50 Best Restaurants list in 2016, was named No.2 in 2017 and returns to the summit in the 2018 edition as winner of The World’s Best Restaurant award, sponsored by S.Pellegrino and Acqua Panna.Images:\\xa0Paolo Terzi; portrait:\\xa0Alessandro Moggi Believe the hype: Massimo Bottura may be a big personality with high-profile international projects, but Osteria Francescana remains a small, discreet restaurant in the relatively modest Italian town of Modena. It also happens to deliver one of the very finest dining experiences in the world, combining nods to tradition with fierce modernity, philosophical conceptions with old-fashioned flavour, warmth with daring. It could have been different: In its early days, the restaurant almost closed after conservative locals were resistant to Bottura’s tradition-busting approach to the Italian kitchen. Thankfully, the locally born chef and his American wife Lara Gilmore persevered. Now, of course, Bottura is feted by fellow chefs, critics and diners both closer to home and from across the globe. On the menu: Bottura weaves a range of narratives through his dishes, playing with ingredients from the surrounding Emilia-Romagna region. Courses include the now-famous (and equally delicious) Five Ages of Parmigiano Reggiano, which takes the diner through the region’s esteemed cheese in different temperatures, textures and tastes, as well as Adriatic Chowder. The latter takes the form of pie crust ‘pirate ship’ filled with sea snails, razor clams, blue lobster and truffle clam chowder as a representation of travel, seasonality and the local coastline. Food meets art: The kitchen’s creations are heavily influenced by art and music (in particular, jazz), and the dining space is made up of three elegant rooms that are adorned with high-quality contemporary artwork. Back on top: Osteria Francescana topped The World’s 50 Best Restaurants list in 2016, was named No.2 in 2017 and returns to the summit in the 2018 edition as winner of The World’s Best Restaurant award, sponsored by S.Pellegrino and Acqua Panna.Images:\\xa0Paolo Terzi; portrait:\\xa0Alessandro Moggi',\n",
       " 'Perfect pairing of food, dessert and wine from Spain’s famous culinary trio What’s the deal: Twice ranked the No.1 restaurant in the world, El Celler de Can Roca thrives on the endless creativity of the trio of gastronomically talented brothers behind one of the most acclaimed restaurants on the planet. Three rocks: Sit down at your table in the airy and elegant dining room of El Celler de Can Roca and you will see three rocks as centrepiece. Each represents one of the brothers, whose surname translates as ‘rock’ from the Spanish: Joan, the chef, Josep, the sommelier, and Jordi, the pastry chef. What to expect from the menu: Complex creations inspired by the Rocas’ childhood memories (their parents owned a restaurant in Girona and still cook for the staff every day), the local ingredients or their sheer creative force. A sense of playfulness is instilled in the dishes, with innovative cooking techniques and unique presentations that stimulate the mind as much as the senses. The wine pairing, which enhances and complements the flavours, could be a reason to visit on its own. Signature dishes: Highlights include ‘Frozen olives’ picked directly from a bonsai olive tree that explode with flavour in the mouth; freeze-dried oyster shells with oyster tartare; bite-sized interpretations of traditional Basque dishes and a dessert infused with ‘essence of old book’. Worth noting: Always at the forefront of the global gastronomic scene, the Roca brothers work as Goodwill Ambassadors for the United Nations Development Programme and provide free psychology and wellbeing sessions for their employees. Sweet tooth: In 2018, Jordi Roca starred in the latest series of Chef’s Table focused on pastry chefs, and the brothers are planning to open a chocolate factory and boutique hotel in Girona next year. What’s the deal: Twice ranked the No.1 restaurant in the world, El Celler de Can Roca thrives on the endless creativity of the trio of gastronomically talented brothers behind one of the most acclaimed restaurants on the planet. Three rocks: Sit down at your table in the airy and elegant dining room of El Celler de Can Roca and you will see three rocks as centrepiece. Each represents one of the brothers, whose surname translates as ‘rock’ from the Spanish: Joan, the chef, Josep, the sommelier, and Jordi, the pastry chef. What to expect from the menu: Complex creations inspired by the Rocas’ childhood memories (their parents owned a restaurant in Girona and still cook for the staff every day), the local ingredients or their sheer creative force. A sense of playfulness is instilled in the dishes, with innovative cooking techniques and unique presentations that stimulate the mind as much as the senses. The wine pairing, which enhances and complements the flavours, could be a reason to visit on its own. Signature dishes: Highlights include ‘Frozen olives’ picked directly from a bonsai olive tree that explode with flavour in the mouth; freeze-dried oyster shells with oyster tartare; bite-sized interpretations of traditional Basque dishes and a dessert infused with ‘essence of old book’. Worth noting: Always at the forefront of the global gastronomic scene, the Roca brothers work as Goodwill Ambassadors for the United Nations Development Programme and provide free psychology and wellbeing sessions for their employees. Sweet tooth: In 2018, Jordi Roca starred in the latest series of Chef’s Table focused on pastry chefs, and the brothers are planning to open a chocolate factory and boutique hotel in Girona next year.',\n",
       " \"Progressive European plates inspired by the French Riviera and their Argentine creator’s roots Why visit: Mirazur’s panoramic view overlooking the Mediterranean Sea, in an idyllic palm tree-studded cove perched upon a hillside mere steps from the Italian border, provides reason enough to drive an hour from Nice. Here, chef Mauro Colagreco assembles modern, delicately flavoured dishes imbued with the essence of the Côte d'Azur via local French and Italian ingredients. What’s on the menu: Colagreco grows much of Mirazur’s produce on his own backyard farm, while sourcing additional products from the nearby Ventimiglia market. Seasonality guides his menus, which are rich in both vegetables and sterling seafood from the surrounding ocean. Think anchovy fillets on fried anchovy skeletons brightened with juice from Menton’s famous lemons, or Colagreco’s signature: oyster with tapioca, shallot cream, and pear. Pro-tip: After dining, take a five-minute walk across the Italian border into Grimaldi di Ventimiglia for an espresso at totally unfancy Bar La Grotta.\\xa0 Other projects: In addition to Mirazur, now 12 years old, Colagreco also commands Grand Coeur, a brasserie in Paris. Back on home turf in Argentina, he operates a more casual burger chain called Carne.Portrait: Matteo Carassale / Restaurant: Anthony Lanneretonne / Dishes: Eduardo Torres Why visit: Mirazur’s panoramic view overlooking the Mediterranean Sea, in an idyllic palm tree-studded cove perched upon a hillside mere steps from the Italian border, provides reason enough to drive an hour from Nice. Here, chef Mauro Colagreco assembles modern, delicately flavoured dishes imbued with the essence of the Côte d'Azur via local French and Italian ingredients. What’s on the menu: Colagreco grows much of Mirazur’s produce on his own backyard farm, while sourcing additional products from the nearby Ventimiglia market. Seasonality guides his menus, which are rich in both vegetables and sterling seafood from the surrounding ocean. Think anchovy fillets on fried anchovy skeletons brightened with juice from Menton’s famous lemons, or Colagreco’s signature: oyster with tapioca, shallot cream, and pear. Pro-tip: After dining, take a five-minute walk across the Italian border into Grimaldi di Ventimiglia for an espresso at totally unfancy Bar La Grotta.\\xa0 Other projects: In addition to Mirazur, now 12 years old, Colagreco also commands Grand Coeur, a brasserie in Paris. Back on home turf in Argentina, he operates a more casual burger chain called Carne.Portrait: Matteo Carassale / Restaurant: Anthony Lanneretonne / Dishes: Eduardo Torres\",\n",
       " 'Innovative New American cuisine served in a majestic former bank The space: In the summer of 2017, shortly after being named The Best Restaurant in the World, Eleven Madison Park closed for a facelift. It reopened with a clean, updated aesthetic marked by cobalt blue mohair banquettes, terrazzo tiling, and a blue painting by artist Rita Ackermann that presides over the dining room. The team also expanded the bar area to make room for additional lounge tables. On the plate: When Eleven Madison Park reopened post renovation, chef Daniel Humm’s plating took on a more minimalist, almost Nordic aesthetic. His iconic lavender and honey roast duck morphed into a honey glazed duck with apple and rutabaga, and he introduced what has become an instant hit: a savoury cheesecake made from smoked sturgeon, anointed with a mountain of caviar. Keep it quick: For those looking to experience a shorter meal, the bar offers an abbreviated five-course tasting menu, as compared to the dining room’s eight to 10 plates. About the chef: Swiss-born chef Humm started working in kitchens at age 14, and earned his first Michelin star at 24. He became executive chef at Eleven Madison Park in 2006 when the restaurant was owned by Danny Meyer’s Union Square Hospitality Group. In 2011, he became co-owner with the charismatic Will Guidara, who runs the front of house. Other projects: Under Humm and Guidara’s hospitality company Make It Nice, the duo operate food and beverages for The NoMad Hotels in New York and Los Angeles, with London and Las Vegas locations also in the works. Last year, the group explored New York’s casual dining market by introducing Made Nice, a quick-serve American café. The space: In the summer of 2017, shortly after being named The Best Restaurant in the World, Eleven Madison Park closed for a facelift. It reopened with a clean, updated aesthetic marked by cobalt blue mohair banquettes, terrazzo tiling, and a blue painting by artist Rita Ackermann that presides over the dining room. The team also expanded the bar area to make room for additional lounge tables. On the plate: When Eleven Madison Park reopened post renovation, chef Daniel Humm’s plating took on a more minimalist, almost Nordic aesthetic. His iconic lavender and honey roast duck morphed into a honey glazed duck with apple and rutabaga, and he introduced what has become an instant hit: a savoury cheesecake made from smoked sturgeon, anointed with a mountain of caviar. Keep it quick: For those looking to experience a shorter meal, the bar offers an abbreviated five-course tasting menu, as compared to the dining room’s eight to 10 plates. About the chef: Swiss-born chef Humm started working in kitchens at age 14, and earned his first Michelin star at 24. He became executive chef at Eleven Madison Park in 2006 when the restaurant was owned by Danny Meyer’s Union Square Hospitality Group. In 2011, he became co-owner with the charismatic Will Guidara, who runs the front of house. Other projects: Under Humm and Guidara’s hospitality company Make It Nice, the duo operate food and beverages for The NoMad Hotels in New York and Los Angeles, with London and Las Vegas locations also in the works. Last year, the group explored New York’s casual dining market by introducing Made Nice, a quick-serve American café.',\n",
       " 'A colourful, emoji-led feast from Asia’s unstoppable chef Best Restaurant in Asia: For the last four years in a row, Gaggan has been voted No.1 in Asia’s 50 Best Restaurants, testament to the constant innovation and improvement at this ever-evolving hub of creativity. El Bulli-influenced chef Gaggan Anand serves up a menu of 25 or more courses of rapid-fire small bites, many of which are eaten with the hands. Visit while you can: While Gaggan is currently the best that Asia has to offer, it won’t be for much longer, as Anand has pledged to close his flagship restaurant in 2020 after 10 years serving gastronomes from all over the globe. After the final service, he plans to open a small restaurant in Fukuoka, Japan, with fellow Asia’s 50 Best Restaurants chef Takeshi ‘Goh’ Fukuyama of La Maison de la Nature Goh. Constant creativity: With the help of a test kitchen and some shiny new equipment, Anand’s menu has evolved from purely modern Indian to a much more global cuisine as the chef has travelled and taken influence from restaurants all over the world. The menu now includes Mexican-inspired taco bites, Japanese-Indian nigiri sushi and even aubergine Oreo biscuits. The classic Yoghurt Explosion remains on the menu alongside newer signatures such as Lick It Up, where diners are encouraged to lick a flavoursome curry straight from the plate. Other ventures: Kolkata-born chef Anand has invested in multiple other restaurants in his adopted Bangkok over the last few years, including his casual beer and burger chain Meatlicious, the Sühring twins’ eponymous German restaurant, new tofu omakase restaurant Mihara Tofuten, and Gaa and Wet, both ventures from Gaggan alumni.Images:\\xa0fb://allwecandid Best Restaurant in Asia: For the last four years in a row, Gaggan has been voted No.1 in Asia’s 50 Best Restaurants, testament to the constant innovation and improvement at this ever-evolving hub of creativity. El Bulli-influenced chef Gaggan Anand serves up a menu of 25 or more courses of rapid-fire small bites, many of which are eaten with the hands. Visit while you can: While Gaggan is currently the best that Asia has to offer, it won’t be for much longer, as Anand has pledged to close his flagship restaurant in 2020 after 10 years serving gastronomes from all over the globe. After the final service, he plans to open a small restaurant in Fukuoka, Japan, with fellow Asia’s 50 Best Restaurants chef Takeshi ‘Goh’ Fukuyama of La Maison de la Nature Goh. Constant creativity: With the help of a test kitchen and some shiny new equipment, Anand’s menu has evolved from purely modern Indian to a much more global cuisine as the chef has travelled and taken influence from restaurants all over the world. The menu now includes Mexican-inspired taco bites, Japanese-Indian nigiri sushi and even aubergine Oreo biscuits. The classic Yoghurt Explosion remains on the menu alongside newer signatures such as Lick It Up, where diners are encouraged to lick a flavoursome curry straight from the plate. Other ventures: Kolkata-born chef Anand has invested in multiple other restaurants in his adopted Bangkok over the last few years, including his casual beer and burger chain Meatlicious, the Sühring twins’ eponymous German restaurant, new tofu omakase restaurant Mihara Tofuten, and Gaa and Wet, both ventures from Gaggan alumni.Images:\\xa0fb://allwecandid']"
      ]
     },
     "execution_count": 13,
     "metadata": {},
     "output_type": "execute_result"
    }
   ],
   "source": [
    "full_ps[:5]"
   ]
  },
  {
   "cell_type": "code",
   "execution_count": 14,
   "metadata": {},
   "outputs": [
    {
     "data": {
      "text/plain": [
       "str"
      ]
     },
     "execution_count": 14,
     "metadata": {},
     "output_type": "execute_result"
    }
   ],
   "source": [
    "type(rest_ps[2].text)"
   ]
  },
  {
   "cell_type": "code",
   "execution_count": 15,
   "metadata": {},
   "outputs": [],
   "source": [
    "import csv\n",
    "\n",
    "with open('worlds_best_rest.txt', 'w') as f:\n",
    "    for item in full_ps:\n",
    "        f.write(\"%s\\n\" % item)\n",
    "    "
   ]
  },
  {
   "cell_type": "code",
   "execution_count": null,
   "metadata": {},
   "outputs": [],
   "source": []
  },
  {
   "cell_type": "code",
   "execution_count": null,
   "metadata": {},
   "outputs": [],
   "source": []
  }
 ],
 "metadata": {
  "kernelspec": {
   "display_name": "Python 3",
   "language": "python",
   "name": "python3"
  },
  "language_info": {
   "codemirror_mode": {
    "name": "ipython",
    "version": 3
   },
   "file_extension": ".py",
   "mimetype": "text/x-python",
   "name": "python",
   "nbconvert_exporter": "python",
   "pygments_lexer": "ipython3",
   "version": "3.7.1"
  }
 },
 "nbformat": 4,
 "nbformat_minor": 2
}
